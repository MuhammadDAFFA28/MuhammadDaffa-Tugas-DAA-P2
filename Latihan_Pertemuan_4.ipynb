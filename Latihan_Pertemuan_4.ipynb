{
  "nbformat": 4,
  "nbformat_minor": 0,
  "metadata": {
    "colab": {
      "provenance": []
    },
    "kernelspec": {
      "name": "python3",
      "display_name": "Python 3"
    },
    "language_info": {
      "name": "python"
    }
  },
  "cells": [
    {
      "cell_type": "code",
      "execution_count": null,
      "metadata": {
        "colab": {
          "base_uri": "https://localhost:8080/"
        },
        "id": "06TLjvAilZ7x",
        "outputId": "4e278353-6cff-4bef-98e3-e1bfbfd6512d"
      },
      "outputs": [
        {
          "output_type": "stream",
          "name": "stdout",
          "text": [
            "3 2 1\n"
          ]
        }
      ],
      "source": [
        "var1 = 1\n",
        "var2 = 2\n",
        "var3 = 3\n",
        "var1,var2,var3 = var3,var2,var1\n",
        "\n",
        "print(var1,var2,var3)"
      ]
    },
    {
      "cell_type": "code",
      "source": [
        "def BubbleSort(list):\n",
        "    lastElementIndex = len(list) - 1\n",
        "    for passNo in range(lastElementIndex, 0, -1):\n",
        "        for idx in range(passNo):\n",
        "            if list[idx] > list[idx + 1]:\n",
        "                list[idx], list[idx + 1] = list[idx + 1], list[idx]\n",
        "    return list\n",
        "\n",
        "list = [60, 10, 20, 40, 30, 100, 90]\n",
        "sorted_list = BubbleSort(list)\n",
        "print(sorted_list)"
      ],
      "metadata": {
        "id": "kOKCbOAfrTUa",
        "colab": {
          "base_uri": "https://localhost:8080/"
        },
        "outputId": "9e39c1c4-03ba-4e75-bd5a-2171074e0e08"
      },
      "execution_count": 6,
      "outputs": [
        {
          "output_type": "stream",
          "name": "stdout",
          "text": [
            "[10, 20, 30, 40, 60, 90, 100]\n"
          ]
        }
      ]
    },
    {
      "cell_type": "code",
      "source": [
        "def InsertionSort(list):\n",
        "    for i in range(1, len(list)):\n",
        "        j = i - 1\n",
        "        next = list[i]\n",
        "\n",
        "        while (list[j] > next) and (j >= 0):\n",
        "            list[j + 1] = list[j]\n",
        "            j = j - 1\n",
        "        list[j + 1] = next\n",
        "    return list\n",
        "\n",
        "list = [89, 12, 57, 16, 25, 11, 75]\n",
        "sorted_list = InsertionSort(list)\n",
        "print(sorted_list)"
      ],
      "metadata": {
        "colab": {
          "base_uri": "https://localhost:8080/"
        },
        "id": "izrhhkMC46Xh",
        "outputId": "facf4674-c1b1-400a-9180-89855338038d"
      },
      "execution_count": 8,
      "outputs": [
        {
          "output_type": "stream",
          "name": "stdout",
          "text": [
            "[11, 12, 16, 25, 57, 75, 89]\n"
          ]
        }
      ]
    },
    {
      "cell_type": "code",
      "source": [
        "def SelectionSort(list):\n",
        "    for fill_slot in range(len(list) - 1, 0, -1):\n",
        "        max_index = 0\n",
        "        for location in range(1, fill_slot + 1):\n",
        "            if list[location] > list[max_index]:\n",
        "                max_index = location\n",
        "        list[fill_slot], list[max_index] = list[max_index], list[fill_slot]\n",
        "    return list\n",
        "\n",
        "list = [89, 12, 57, 16, 25]\n",
        "sorted_list = SelectionSort(list)\n",
        "print(sorted_list)"
      ],
      "metadata": {
        "colab": {
          "base_uri": "https://localhost:8080/"
        },
        "id": "6BcuXlMl9k2v",
        "outputId": "7e17042f-4d6a-47ba-8631-6064cc55b3f2"
      },
      "execution_count": 11,
      "outputs": [
        {
          "output_type": "stream",
          "name": "stdout",
          "text": [
            "[12, 16, 25, 57, 89]\n"
          ]
        }
      ]
    },
    {
      "cell_type": "code",
      "source": [
        "def linear_search(arr, target):\n",
        "    for index in range(len(arr)):\n",
        "        if arr[index] == target:\n",
        "            return index\n",
        "    return -1\n",
        "\n",
        "letters = ['y', 'u', 'i', 'w', 'o', 'a', 'q', 'u', 'j', 'p']\n",
        "\n",
        "result = linear_search(letters, 'a')\n",
        "\n",
        "if result != -1:\n",
        "    print(f\"Huruf 'a' ditemukan pada indeks: {result}\")\n",
        "else:\n",
        "    print(\"Huruf 'a' tidak ditemukan dalam deret.\")"
      ],
      "metadata": {
        "colab": {
          "base_uri": "https://localhost:8080/"
        },
        "id": "olJ3uzbJBfef",
        "outputId": "726302d3-775c-4385-a52c-5c6ace3cbd09"
      },
      "execution_count": 12,
      "outputs": [
        {
          "output_type": "stream",
          "name": "stdout",
          "text": [
            "Huruf 'a' ditemukan pada indeks: 5\n"
          ]
        }
      ]
    },
    {
      "cell_type": "code",
      "source": [],
      "metadata": {
        "id": "skzdQTAwCgTZ"
      },
      "execution_count": null,
      "outputs": []
    },
    {
      "cell_type": "code",
      "source": [
        "def binary_search(arr, target):\n",
        "    low = 0\n",
        "    high = len(arr) - 1\n",
        "\n",
        "    while low <= high:\n",
        "        mid = (low + high) // 2\n",
        "        guess = arr[mid]\n",
        "\n",
        "        if guess == target:\n",
        "            return mid\n",
        "        if guess < target:\n",
        "            low = mid + 1\n",
        "        else:\n",
        "            high = mid - 1\n",
        "\n",
        "    return -1\n",
        "\n",
        "letters = ['y', 'u', 'i', 'w', 'o', 'a', 'q', 'u', 'j', 'p']\n",
        "\n",
        "sorted_letters = sorted(letters)\n",
        "\n",
        "result = binary_search(sorted_letters, 'a')\n",
        "\n",
        "if result != -1:\n",
        "    print(f\"Huruf 'a' ditemukan pada indeks {result} dalam daftar yang diurutkan: {sorted_letters}\")\n",
        "else:\n",
        "    print(\"Huruf 'a' tidak ditemukan dalam deret.\")\n"
      ],
      "metadata": {
        "colab": {
          "base_uri": "https://localhost:8080/"
        },
        "id": "Djd3kW6jCgWn",
        "outputId": "58e7afcd-e5c4-45fb-f467-25babafdc0b1"
      },
      "execution_count": 13,
      "outputs": [
        {
          "output_type": "stream",
          "name": "stdout",
          "text": [
            "Huruf 'a' ditemukan pada indeks 0 dalam daftar yang diurutkan: ['a', 'i', 'j', 'o', 'p', 'q', 'u', 'u', 'w', 'y']\n"
          ]
        }
      ]
    },
    {
      "cell_type": "code",
      "source": [
        "def interpolation_search(arr, target):\n",
        "    low = 0\n",
        "    high = len(arr) - 1\n",
        "\n",
        "    target_value = ord(target)\n",
        "\n",
        "    while low <= high and ord(arr[low]) <= target_value <= ord(arr[high]):\n",
        "        if low == high:\n",
        "            if arr[low] == target:\n",
        "                return low\n",
        "            return -1\n",
        "\n",
        "        pos = low + ((target_value - ord(arr[low])) * (high - low) // (ord(arr[high]) - ord(arr[low])))\n",
        "\n",
        "        if arr[pos] == target:\n",
        "            return pos\n",
        "        if ord(arr[pos]) < target_value:\n",
        "            low = pos + 1\n",
        "        else:\n",
        "            high = pos - 1\n",
        "\n",
        "    return -1\n",
        "\n",
        "letters = ['y', 'u', 'i', 'w', 'o', 'a', 'q', 'u', 'j', 'p']\n",
        "\n",
        "sorted_letters = sorted(letters)\n",
        "\n",
        "result = interpolation_search(sorted_letters, 'u')\n",
        "\n",
        "if result != -1:\n",
        "    print(f\"Huruf 'u' ditemukan pada indeks {result} dalam daftar yang diurutkan: {sorted_letters}\")\n",
        "else:\n",
        "    print(\"Huruf 'u' tidak ditemukan dalam deret.\")\n"
      ],
      "metadata": {
        "colab": {
          "base_uri": "https://localhost:8080/"
        },
        "id": "C0tJpowNDMoN",
        "outputId": "2d150eb4-a364-499c-ce88-75fd5683704b"
      },
      "execution_count": 14,
      "outputs": [
        {
          "output_type": "stream",
          "name": "stdout",
          "text": [
            "Huruf 'u' ditemukan pada indeks 7 dalam daftar yang diurutkan: ['a', 'i', 'j', 'o', 'p', 'q', 'u', 'u', 'w', 'y']\n"
          ]
        }
      ]
    }
  ]
}